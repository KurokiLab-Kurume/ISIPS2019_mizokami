{
 "cells": [
  {
   "cell_type": "markdown",
   "metadata": {},
   "source": [
    "conventional method (Convolutional Neural Network and Support Vector Machine)"
   ]
  },
  {
   "cell_type": "markdown",
   "metadata": {},
   "source": [
    "train CNN"
   ]
  },
  {
   "cell_type": "code",
   "execution_count": 3,
   "metadata": {},
   "outputs": [
    {
     "name": "stdout",
     "output_type": "stream",
     "text": [
      "5 train samples\n",
      "5000 test samples\n",
      "_________________________________________________________________\n",
      "Layer (type)                 Output Shape              Param #   \n",
      "=================================================================\n",
      "input_2 (InputLayer)         (None, 28, 28, 1)         0         \n",
      "_________________________________________________________________\n",
      "conv2d_3 (Conv2D)            (None, 24, 24, 6)         156       \n",
      "_________________________________________________________________\n",
      "activation_6 (Activation)    (None, 24, 24, 6)         0         \n",
      "_________________________________________________________________\n",
      "conv2d_4 (Conv2D)            (None, 20, 20, 16)        2416      \n",
      "_________________________________________________________________\n",
      "activation_7 (Activation)    (None, 20, 20, 16)        0         \n",
      "_________________________________________________________________\n",
      "flatten_2 (Flatten)          (None, 6400)              0         \n",
      "_________________________________________________________________\n",
      "dense_4 (Dense)              (None, 2056)              13160456  \n",
      "_________________________________________________________________\n",
      "activation_8 (Activation)    (None, 2056)              0         \n",
      "_________________________________________________________________\n",
      "dense_5 (Dense)              (None, 64)                131648    \n",
      "_________________________________________________________________\n",
      "activation_9 (Activation)    (None, 64)                0         \n",
      "_________________________________________________________________\n",
      "dense_6 (Dense)              (None, 10)                650       \n",
      "_________________________________________________________________\n",
      "activation_10 (Activation)   (None, 10)                0         \n",
      "=================================================================\n",
      "Total params: 13,295,326\n",
      "Trainable params: 13,295,326\n",
      "Non-trainable params: 0\n",
      "_________________________________________________________________\n",
      "Train on 5 samples, validate on 5000 samples\n",
      "Epoch 1/15\n",
      "5/5 [==============================] - 2s 471ms/step - loss: 2.4484 - acc: 0.0000e+00 - val_loss: 2.2953 - val_acc: 0.2450\n",
      "Epoch 2/15\n",
      "5/5 [==============================] - 2s 357ms/step - loss: 0.3395 - acc: 1.0000 - val_loss: 2.7902 - val_acc: 0.2770\n",
      "Epoch 3/15\n",
      "5/5 [==============================] - 2s 361ms/step - loss: 0.0135 - acc: 1.0000 - val_loss: 3.6598 - val_acc: 0.2820\n",
      "Epoch 4/15\n",
      "5/5 [==============================] - 2s 360ms/step - loss: 8.1348e-04 - acc: 1.0000 - val_loss: 4.6013 - val_acc: 0.2814\n",
      "Epoch 5/15\n",
      "5/5 [==============================] - 2s 353ms/step - loss: 6.5524e-05 - acc: 1.0000 - val_loss: 5.5105 - val_acc: 0.2804\n",
      "Epoch 6/15\n",
      "5/5 [==============================] - 2s 353ms/step - loss: 5.7936e-06 - acc: 1.0000 - val_loss: 6.3231 - val_acc: 0.2788\n",
      "Epoch 7/15\n",
      "5/5 [==============================] - 2s 352ms/step - loss: 5.9605e-07 - acc: 1.0000 - val_loss: 7.0171 - val_acc: 0.2780\n",
      "Epoch 8/15\n",
      "5/5 [==============================] - 2s 354ms/step - loss: 1.4305e-07 - acc: 1.0000 - val_loss: 7.6024 - val_acc: 0.2772\n",
      "Epoch 9/15\n",
      "5/5 [==============================] - 2s 352ms/step - loss: 1.1921e-07 - acc: 1.0000 - val_loss: 8.0854 - val_acc: 0.2770\n",
      "Epoch 10/15\n",
      "5/5 [==============================] - 2s 351ms/step - loss: 1.1921e-07 - acc: 1.0000 - val_loss: 8.4869 - val_acc: 0.2772\n",
      "Epoch 11/15\n",
      "5/5 [==============================] - 2s 351ms/step - loss: 1.1921e-07 - acc: 1.0000 - val_loss: 8.8228 - val_acc: 0.2770\n",
      "Epoch 12/15\n",
      "5/5 [==============================] - 2s 351ms/step - loss: 1.1921e-07 - acc: 1.0000 - val_loss: 9.1017 - val_acc: 0.2758\n",
      "Epoch 13/15\n",
      "5/5 [==============================] - 2s 352ms/step - loss: 1.1921e-07 - acc: 1.0000 - val_loss: 9.3334 - val_acc: 0.2754\n",
      "Epoch 14/15\n",
      "5/5 [==============================] - 2s 353ms/step - loss: 1.1921e-07 - acc: 1.0000 - val_loss: 9.5251 - val_acc: 0.2750\n",
      "Epoch 15/15\n",
      "5/5 [==============================] - 2s 350ms/step - loss: 1.1921e-07 - acc: 1.0000 - val_loss: 9.6849 - val_acc: 0.2750\n",
      "Test loss: 9.68487587890625\n",
      "Test accuracy: 0.275\n"
     ]
    }
   ],
   "source": [
    "import keras\n",
    "from keras.models import Sequential\n",
    "from keras.models import Model\n",
    "from keras.layers import Conv2D, Activation, Flatten, Dense, Input\n",
    "from keras.datasets import mnist\n",
    "\n",
    "\n",
    "batch_size = 32\n",
    "epochs = 15\n",
    "train_num = 5\n",
    "test_num = 5000\n",
    "\n",
    "#load dataset (MNIST)\n",
    "(x_train, y_train), (x_test, y_test) = mnist.load_data()\n",
    "\n",
    "#\n",
    "x_train = x_train.reshape((60000,28,28,1))\n",
    "x_test = x_test.reshape((10000,28,28,1))\n",
    "x_train = x_train.astype('float32')\n",
    "x_test = x_test.astype('float32')\n",
    "x_train /= 255\n",
    "x_test /= 255\n",
    "x_train = x_train[:train_num,:,:,:]\n",
    "x_test = x_test[:test_num,:,:,:]\n",
    "y_train = y_train[:train_num]\n",
    "y_test = y_test[:test_num]\n",
    "print(x_train.shape[0], 'train samples')\n",
    "print(x_test.shape[0], 'test samples')\n",
    "\n",
    "y_train = keras.utils.to_categorical(y_train, 10)\n",
    "y_test = keras.utils.to_categorical(y_test, 10)\n",
    "\n",
    "model_input = Input(shape=(28, 28, 1))\n",
    "conv1 = Conv2D(6, (5, 5))(model_input)\n",
    "acti1 = Activation('linear')(conv1)\n",
    "conv2 = Conv2D(16, (5, 5))(acti1)\n",
    "acti2 = Activation('linear')(conv2)\n",
    "\n",
    "flatten1 = Flatten()(acti2)\n",
    "dense1 = Dense(2056)(flatten1)\n",
    "acti5 = Activation('relu')(dense1)\n",
    "dense2 = Dense(64)(acti5)\n",
    "acti6 = Activation('relu')(dense2)\n",
    "dense3 = Dense(10)(acti6)\n",
    "output = Activation('softmax')(dense3)\n",
    "\n",
    "model = Model(inputs=model_input, outputs=output)\n",
    "\n",
    "\n",
    "model.summary()\n",
    "\n",
    "model.compile(loss='categorical_crossentropy',\n",
    "               optimizer='adam',\n",
    "               metrics=['accuracy'])\n",
    "\n",
    "history = model.fit(x_train, y_train,  # 画像とラベルデータ\n",
    "                    batch_size=batch_size,\n",
    "                    epochs=epochs,     # エポック数の指定\n",
    "                    verbose=1,         # ログ出力の指定. 0だとログが出ない\n",
    "                    validation_data=(x_test, y_test))\n",
    "\n",
    "score = model.evaluate(x_test, y_test, verbose=0)\n",
    "print('Test loss:', score[0])\n",
    "print('Test accuracy:', score[1])"
   ]
  },
  {
   "cell_type": "markdown",
   "metadata": {},
   "source": [
    "get features from trained CNN"
   ]
  },
  {
   "cell_type": "code",
   "execution_count": 7,
   "metadata": {},
   "outputs": [
    {
     "name": "stdout",
     "output_type": "stream",
     "text": [
      "features.shape (5000, 20, 20, 16)\n"
     ]
    }
   ],
   "source": [
    "import matplotlib.pyplot as plt\n",
    "import numpy as np\n",
    "from keras import backend as K\n",
    "from keras.preprocessing import image\n",
    "\n",
    "train_num_svm=5000\n",
    "(x_train, y_train), (_, _) = mnist.load_data()\n",
    "\n",
    "#we use only train data and labels\n",
    "x_train = x_train.reshape((60000,28,28,1))\n",
    "x_train = x_train.astype('float32')\n",
    "x_train /= 255\n",
    "x_train = x_train[:train_num_svm,:,:,:]\n",
    "y_train = y_train[:train_num_svm]\n",
    "\n",
    "get_feature_map = K.function(inputs=[model.input, K.learning_phase()],\n",
    "                             outputs=[model.layers[3].output])\n",
    "\n",
    "features, = get_feature_map([x_train, False])\n",
    "print('features.shape', features.shape)"
   ]
  },
  {
   "cell_type": "markdown",
   "metadata": {},
   "source": [
    "train SVM with extracted featres"
   ]
  },
  {
   "cell_type": "code",
   "execution_count": 8,
   "metadata": {},
   "outputs": [
    {
     "data": {
      "text/plain": [
       "SVC(C=1.0, cache_size=200, class_weight=None, coef0=0.0,\n",
       "  decision_function_shape='ovr', degree=3, gamma='auto', kernel='linear',\n",
       "  max_iter=-1, probability=False, random_state=None, shrinking=True,\n",
       "  tol=0.001, verbose=False)"
      ]
     },
     "execution_count": 8,
     "metadata": {},
     "output_type": "execute_result"
    }
   ],
   "source": [
    "#reshape features for SVM\n",
    "features = features.transpose(1,2,3,0)\n",
    "features = features.reshape(-1, features.shape[3])\n",
    "\n",
    "from sklearn.svm import SVC\n",
    "clf = SVC(gamma='auto',kernel='linear')\n",
    "clf.fit(features.T, y_train)"
   ]
  },
  {
   "cell_type": "code",
   "execution_count": 9,
   "metadata": {},
   "outputs": [
    {
     "data": {
      "text/plain": [
       "1.0"
      ]
     },
     "execution_count": 9,
     "metadata": {},
     "output_type": "execute_result"
    }
   ],
   "source": [
    "#calculate accuracy of image classification\n",
    "clf.score(features.T, y_train)"
   ]
  },
  {
   "cell_type": "markdown",
   "metadata": {},
   "source": [
    "calculate test accuracy with trained SVM"
   ]
  },
  {
   "cell_type": "code",
   "execution_count": 10,
   "metadata": {},
   "outputs": [
    {
     "data": {
      "text/plain": [
       "0.8764"
      ]
     },
     "execution_count": 10,
     "metadata": {},
     "output_type": "execute_result"
    }
   ],
   "source": [
    "test_features, = get_feature_map([x_test, False])\n",
    "\n",
    "#reshape data\n",
    "test_features = test_features.transpose(1,2,3,0)\n",
    "test_features = test_features.reshape(-1, test_features.shape[3])\n",
    "\n",
    "#calculate test accuracy\n",
    "clf.score(test_features.T, y_test)"
   ]
  }
 ],
 "metadata": {
  "kernelspec": {
   "display_name": "Python 3",
   "language": "python",
   "name": "python3"
  },
  "language_info": {
   "codemirror_mode": {
    "name": "ipython",
    "version": 3
   },
   "file_extension": ".py",
   "mimetype": "text/x-python",
   "name": "python",
   "nbconvert_exporter": "python",
   "pygments_lexer": "ipython3",
   "version": "3.7.5"
  }
 },
 "nbformat": 4,
 "nbformat_minor": 4
}
