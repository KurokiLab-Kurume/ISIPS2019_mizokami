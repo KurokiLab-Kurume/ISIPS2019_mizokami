{
 "cells": [
  {
   "cell_type": "markdown",
   "metadata": {},
   "source": [
    "proposed method"
   ]
  },
  {
   "cell_type": "code",
   "execution_count": 4,
   "metadata": {},
   "outputs": [],
   "source": [
    "import numpy as np;\n",
    "from sporco import linalg, util, metric, plot;\n",
    "from torchvision import datasets;\n",
    "import cv2;"
   ]
  },
  {
   "cell_type": "code",
   "execution_count": 5,
   "metadata": {},
   "outputs": [],
   "source": [
    "# 実験のオプション\n",
    "\n",
    "def make_option():\n",
    "    opt = {}\n",
    "    opt['train_amount'] = 1000\n",
    "    opt['test_amount'] = 1000\n",
    "    return opt"
   ]
  },
  {
   "cell_type": "code",
   "execution_count": 6,
   "metadata": {},
   "outputs": [],
   "source": [
    "# MNIST データセット読み込みの関数\n",
    "#================================\n",
    "# train_amount: 学習用画像の枚数\n",
    "# test_amount: テスト用画像の枚数\n",
    "#================================\n",
    "\n",
    "def load_mnist_train(train_amount):\n",
    "    data = datasets.MNIST(\"../data\", download = True)\n",
    "    imgs, labels = data.train_data.numpy() , data.train_labels.numpy()\n",
    "    return_data = np.zeros((imgs.shape[0], 32, 32))\n",
    "    for i in range(imgs.shape[0]):\n",
    "        return_data[i] = cv2.copyMakeBorder(imgs[i],2,2,2,2,cv2.BORDER_CONSTANT, value=0)\n",
    "    return return_data[0:train_amount]/255.0, labels[0:train_amount]\n",
    "\n",
    "def load_mnist_test(test_amount):\n",
    "    data = datasets.MNIST(\"../data\", download = True)\n",
    "    imgs, labels = data.test_data.numpy(), data.test_labels.numpy()\n",
    "    return_data = np.zeros((imgs.shape[0], 32, 32))\n",
    "    for i in range(imgs.shape[0]):\n",
    "        return_data[i] = cv2.copyMakeBorder(imgs[i],2,2,2,2,cv2.BORDER_CONSTANT, value=0)\n",
    "    return return_data[0:test_amount]/255.0, labels[0:test_amount]"
   ]
  },
  {
   "cell_type": "code",
   "execution_count": 7,
   "metadata": {},
   "outputs": [
    {
     "name": "stderr",
     "output_type": "stream",
     "text": [
      "/home/kuroki-lab/anaconda3/envs/hirakawa/lib/python3.7/site-packages/torchvision/datasets/mnist.py:53: UserWarning: train_data has been renamed data\n",
      "  warnings.warn(\"train_data has been renamed data\")\n",
      "/home/kuroki-lab/anaconda3/envs/hirakawa/lib/python3.7/site-packages/torchvision/datasets/mnist.py:43: UserWarning: train_labels has been renamed targets\n",
      "  warnings.warn(\"train_labels has been renamed targets\")\n",
      "/home/kuroki-lab/anaconda3/envs/hirakawa/lib/python3.7/site-packages/torchvision/datasets/mnist.py:58: UserWarning: test_data has been renamed data\n",
      "  warnings.warn(\"test_data has been renamed data\")\n",
      "/home/kuroki-lab/anaconda3/envs/hirakawa/lib/python3.7/site-packages/torchvision/datasets/mnist.py:48: UserWarning: test_labels has been renamed targets\n",
      "  warnings.warn(\"test_labels has been renamed targets\")\n"
     ]
    }
   ],
   "source": [
    "# オプション作る\n",
    "opt = make_option()\n",
    "\n",
    "# MNIST画像の読み込み\n",
    "train_data, train_label = load_mnist_train(opt['train_amount'])\n",
    "test_data, test_label = load_mnist_test(opt['test_amount'])\n",
    "\n",
    "# (x, y, 枚数)の形にリシェイプ\n",
    "train_data = train_data.transpose(1,2,0)\n",
    "test_data = test_data.transpose(1,2,0)"
   ]
  },
  {
   "cell_type": "code",
   "execution_count": 8,
   "metadata": {
    "collapsed": true,
    "jupyter": {
     "outputs_hidden": true
    }
   },
   "outputs": [
    {
     "name": "stdout",
     "output_type": "stream",
     "text": [
      "Itn   Fnc       DFid      ℓ1        Cnstr     r_X       s_X       ρ_X       r_D       s_D       ρ_D     \n",
      "--------------------------------------------------------------------------------------------------------\n",
      "   0  4.52e+04  3.75e+04  1.53e+04  4.08e-16  6.04e-01  5.31e-01  2.55e+01  2.60e-01  3.73e-01  1.00e+01\n",
      "   1  4.38e+04  3.77e+04  1.22e+04  2.54e-16  3.39e-01  6.21e-01  2.55e+01  1.51e-01  3.61e-01  1.00e+01\n",
      "   2  3.90e+04  3.11e+04  1.57e+04  2.63e-16  2.03e-01  5.74e-01  2.55e+01  1.58e-01  2.59e-01  1.00e+01\n",
      "   3  3.68e+04  2.69e+04  1.97e+04  2.30e-16  1.45e-01  5.14e-01  2.55e+01  1.20e-01  1.73e-01  1.00e+01\n",
      "   4  3.43e+04  2.34e+04  2.17e+04  2.80e-16  9.08e-02  3.63e-01  2.55e+01  9.35e-02  1.28e-01  1.00e+01\n",
      "   5  3.34e+04  2.18e+04  2.31e+04  3.35e-16  6.93e-02  2.77e-01  2.55e+01  7.32e-02  8.09e-02  1.00e+01\n",
      "   6  3.24e+04  2.09e+04  2.31e+04  2.97e-16  5.09e-02  2.17e-01  2.55e+01  5.80e-02  5.81e-02  1.00e+01\n",
      "   7  3.21e+04  2.04e+04  2.33e+04  3.88e-16  4.33e-02  1.88e-01  2.55e+01  4.70e-02  4.24e-02  1.00e+01\n",
      "   8  3.16e+04  2.01e+04  2.31e+04  4.72e-16  3.63e-02  1.67e-01  2.55e+01  4.05e-02  3.51e-02  1.00e+01\n",
      "   9  3.14e+04  1.99e+04  2.31e+04  4.23e-16  3.25e-02  1.54e-01  2.55e+01  3.42e-02  2.98e-02  1.00e+01\n",
      "  10  3.12e+04  1.97e+04  2.30e+04  3.54e-16  2.87e-02  1.43e-01  2.55e+01  3.15e-02  2.68e-02  1.00e+01\n",
      "  11  3.10e+04  1.95e+04  2.31e+04  3.29e-16  2.63e-02  1.36e-01  2.55e+01  2.74e-02  2.39e-02  1.00e+01\n",
      "  12  3.08e+04  1.93e+04  2.30e+04  2.70e-16  2.40e-02  1.29e-01  2.55e+01  2.60e-02  2.18e-02  1.00e+01\n",
      "  13  3.07e+04  1.92e+04  2.30e+04  2.16e-16  2.23e-02  1.23e-01  2.55e+01  2.31e-02  1.94e-02  1.00e+01\n",
      "  14  3.06e+04  1.91e+04  2.30e+04  2.54e-16  2.05e-02  1.18e-01  2.55e+01  2.19e-02  1.74e-02  1.00e+01\n",
      "  15  3.05e+04  1.90e+04  2.30e+04  2.58e-16  1.92e-02  1.13e-01  2.55e+01  1.96e-02  1.53e-02  1.00e+01\n",
      "  16  3.04e+04  1.89e+04  2.29e+04  3.01e-16  1.79e-02  1.08e-01  2.55e+01  1.85e-02  1.35e-02  1.00e+01\n",
      "  17  3.03e+04  1.88e+04  2.29e+04  3.21e-16  1.68e-02  1.03e-01  2.55e+01  1.67e-02  1.19e-02  1.00e+01\n",
      "  18  3.02e+04  1.88e+04  2.29e+04  4.73e-16  1.57e-02  9.85e-02  2.55e+01  1.57e-02  1.04e-02  1.00e+01\n",
      "  19  3.02e+04  1.87e+04  2.29e+04  2.61e-16  1.48e-02  9.43e-02  2.55e+01  1.43e-02  9.16e-03  1.00e+01\n",
      "  20  3.01e+04  1.87e+04  2.29e+04  3.09e-16  1.39e-02  9.04e-02  2.55e+01  1.34e-02  8.11e-03  1.00e+01\n",
      "  21  3.01e+04  1.86e+04  2.29e+04  1.86e-16  1.31e-02  8.67e-02  2.55e+01  1.24e-02  7.22e-03  1.00e+01\n",
      "  22  3.00e+04  1.86e+04  2.28e+04  4.53e-16  1.24e-02  8.33e-02  2.55e+01  1.17e-02  6.48e-03  1.00e+01\n",
      "  23  3.00e+04  1.85e+04  2.28e+04  3.56e-16  1.18e-02  8.01e-02  2.55e+01  1.09e-02  5.86e-03  1.00e+01\n",
      "  24  2.99e+04  1.85e+04  2.28e+04  4.88e-16  1.12e-02  7.72e-02  2.55e+01  1.03e-02  5.36e-03  1.00e+01\n",
      "  25  2.99e+04  1.85e+04  2.28e+04  3.18e-16  1.07e-02  7.44e-02  2.55e+01  9.66e-03  4.94e-03  1.00e+01\n",
      "  26  2.99e+04  1.85e+04  2.28e+04  2.86e-16  1.02e-02  7.19e-02  2.55e+01  9.19e-03  4.59e-03  1.00e+01\n",
      "  27  2.98e+04  1.84e+04  2.28e+04  3.33e-16  9.72e-03  6.95e-02  2.55e+01  8.71e-03  4.30e-03  1.00e+01\n",
      "  28  2.98e+04  1.84e+04  2.28e+04  4.27e-16  9.30e-03  6.73e-02  2.55e+01  8.30e-03  4.05e-03  1.00e+01\n",
      "  29  2.98e+04  1.84e+04  2.28e+04  4.56e-16  8.93e-03  6.52e-02  2.55e+01  7.92e-03  3.84e-03  1.00e+01\n",
      "  30  2.97e+04  1.84e+04  2.28e+04  3.13e-16  8.58e-03  6.33e-02  2.55e+01  7.56e-03  3.66e-03  1.00e+01\n",
      "  31  2.97e+04  1.83e+04  2.28e+04  3.52e-16  8.25e-03  6.14e-02  2.55e+01  7.24e-03  3.50e-03  1.00e+01\n",
      "  32  2.97e+04  1.83e+04  2.27e+04  3.24e-16  7.94e-03  5.96e-02  2.55e+01  6.93e-03  3.36e-03  1.00e+01\n",
      "  33  2.97e+04  1.83e+04  2.27e+04  4.10e-16  7.65e-03  5.79e-02  2.55e+01  6.68e-03  3.24e-03  1.00e+01\n",
      "  34  2.97e+04  1.83e+04  2.27e+04  3.45e-16  7.39e-03  5.64e-02  2.55e+01  6.41e-03  3.14e-03  1.00e+01\n",
      "  35  2.97e+04  1.83e+04  2.27e+04  4.93e-16  7.14e-03  5.49e-02  2.55e+01  6.19e-03  3.05e-03  1.00e+01\n",
      "  36  2.96e+04  1.83e+04  2.27e+04  4.40e-16  6.90e-03  5.35e-02  2.55e+01  5.97e-03  2.96e-03  1.00e+01\n",
      "  37  2.96e+04  1.83e+04  2.27e+04  3.08e-16  6.69e-03  5.22e-02  2.55e+01  5.78e-03  2.89e-03  1.00e+01\n",
      "  38  2.96e+04  1.82e+04  2.27e+04  3.70e-16  6.48e-03  5.09e-02  2.55e+01  5.59e-03  2.82e-03  1.00e+01\n",
      "  39  2.96e+04  1.82e+04  2.27e+04  3.98e-16  6.28e-03  4.97e-02  2.55e+01  5.41e-03  2.76e-03  1.00e+01\n",
      "  40  2.96e+04  1.82e+04  2.27e+04  3.67e-16  6.10e-03  4.85e-02  2.55e+01  5.24e-03  2.70e-03  1.00e+01\n",
      "  41  2.96e+04  1.82e+04  2.27e+04  3.36e-16  5.93e-03  4.74e-02  2.55e+01  5.09e-03  2.65e-03  1.00e+01\n",
      "  42  2.96e+04  1.82e+04  2.27e+04  3.61e-16  5.76e-03  4.64e-02  2.55e+01  4.95e-03  2.61e-03  1.00e+01\n",
      "  43  2.95e+04  1.82e+04  2.27e+04  4.43e-16  5.61e-03  4.54e-02  2.55e+01  4.81e-03  2.56e-03  1.00e+01\n",
      "  44  2.95e+04  1.82e+04  2.27e+04  3.39e-16  5.46e-03  4.45e-02  2.55e+01  4.67e-03  2.53e-03  1.00e+01\n",
      "  45  2.95e+04  1.82e+04  2.27e+04  3.60e-16  5.32e-03  4.36e-02  2.55e+01  4.55e-03  2.49e-03  1.00e+01\n",
      "  46  2.95e+04  1.82e+04  2.27e+04  3.30e-16  5.19e-03  4.27e-02  2.55e+01  4.42e-03  2.46e-03  1.00e+01\n",
      "  47  2.95e+04  1.82e+04  2.27e+04  2.93e-16  5.06e-03  4.19e-02  2.55e+01  4.32e-03  2.43e-03  1.00e+01\n",
      "  48  2.95e+04  1.81e+04  2.27e+04  5.12e-16  4.94e-03  4.11e-02  2.55e+01  4.21e-03  2.40e-03  1.00e+01\n",
      "  49  2.95e+04  1.81e+04  2.27e+04  2.62e-16  4.83e-03  4.03e-02  2.55e+01  4.12e-03  2.37e-03  1.00e+01\n",
      "--------------------------------------------------------------------------------------------------------\n",
      "ConvBPDNDictLearn solve time: 57.34s\n"
     ]
    },
    {
     "data": {
      "image/png": "[encoded data removed]",
      "text/plain": [
       "<Figure size 1440x720 with 2 Axes>"
      ]
     },
     "metadata": {
      "needs_background": "light"
     },
     "output_type": "display_data"
    }
   ],
   "source": [
    "# 第１層の畳み込み辞書学習問題を解く。\n",
    "#===============================================================================\n",
    "# D0: 学習前の辞書（辞書の初期値） -> (x, y, 辞書の枚数)\n",
    "# D1: 学習後の辞書 -> (x, y, 辞書の枚数)\n",
    "# coef: 得られたスパース係数 -> (x, y, 画像の枚数, チャネル)\n",
    "# lmbda: 辞書学習問題におけるスパース項についているパラメータ、高いほど係数がスパースになる\n",
    "# opt: 畳み込み辞書学習のオプション、リファレンスのまんま\n",
    "#===============================================================================\n",
    "\n",
    "from sporco.dictlrn import cbpdndl;\n",
    "\n",
    "# 辞書の初期化\n",
    "np.random.seed(12345);\n",
    "D0 = np.random.randn(5, 5, 6);\n",
    "\n",
    "# 辞書学習の実行(ライブラリ使用)\n",
    "lmbda = 0.5;\n",
    "opt = cbpdndl.ConvBPDNDictLearn.Options({'Verbose': True, 'MaxMainIter': 50,\n",
    "                            'CBPDN': {'rho': 50.0*lmbda + 0.5},\n",
    "                            'CCMOD': {'rho': 10.0, 'ZeroMean': True}},\n",
    "                            dmethod='cns');\n",
    "d = cbpdndl.ConvBPDNDictLearn(D0, train_data, lmbda, opt, dmethod='cns');\n",
    "# D1に学習済みの辞書を格納\n",
    "D1 = d.solve();\n",
    "print(\"ConvBPDNDictLearn solve time: %.2fs\" % d.timer.elapsed('solve'));\n",
    "\n",
    "# 学習前と学習後の辞書の可視化\n",
    "fig =  plot.figure(figsize=(20, 10));\n",
    "ax1 = fig.add_subplot(121);\n",
    "ax2 = fig.add_subplot(122);\n",
    "plot.imview(util.tiledict(D0), fig=fig, ax=ax1, title=\"initial dictionary\");\n",
    "plot.imview(util.tiledict(D1.squeeze()), fig=fig, ax=ax2, title=\"learned dictionary\");\n",
    "\n",
    "#coefにスパース係数を格納(x, y, 画像の枚数, チャネル)\n",
    "coef = np.array(d.getcoef().squeeze());"
   ]
  },
  {
   "cell_type": "code",
   "execution_count": 9,
   "metadata": {},
   "outputs": [
    {
     "data": {
      "text/plain": [
       "(32, 32, 1000, 6)"
      ]
     },
     "execution_count": 9,
     "metadata": {},
     "output_type": "execute_result"
    }
   ],
   "source": [
    "coef.shape"
   ]
  },
  {
   "cell_type": "code",
   "execution_count": null,
   "metadata": {},
   "outputs": [
    {
     "name": "stdout",
     "output_type": "stream",
     "text": [
      "Itn   Fnc       DFid      ℓ1        Cnstr     r_X       s_X       ρ_X       r_D       s_D       ρ_D     \n",
      "--------------------------------------------------------------------------------------------------------\n",
      "   0  1.66e+03  5.66e+02  5.47e+04  7.00e-16  4.64e-01  9.42e-01  1.50e+00  1.00e-01  1.94e-01  1.00e+01\n",
      "   1  1.57e+03  6.22e+02  4.76e+04  9.47e-16  2.36e-01  4.84e-01  1.50e+00  7.24e-02  2.11e-01  1.00e+01\n",
      "   2  1.37e+03  4.73e+02  4.49e+04  8.25e-16  1.35e-01  2.59e-01  1.50e+00  6.15e-02  2.43e-01  1.00e+01\n",
      "   3  1.31e+03  4.66e+02  4.21e+04  1.15e-15  9.30e-02  1.80e-01  1.50e+00  4.70e-02  2.31e-01  1.00e+01\n",
      "   4  1.23e+03  4.30e+02  4.02e+04  8.77e-16  6.74e-02  1.32e-01  1.50e+00  3.94e-02  2.58e-01  1.00e+01\n",
      "   5  1.20e+03  4.18e+02  3.90e+04  8.56e-16  5.31e-02  1.06e-01  1.50e+00  3.07e-02  2.43e-01  1.00e+01\n",
      "   6  1.16e+03  3.99e+02  3.79e+04  8.13e-16  4.19e-02  8.86e-02  1.50e+00  2.54e-02  2.57e-01  1.00e+01\n",
      "   7  1.13e+03  3.88e+02  3.71e+04  9.38e-16  3.51e-02  7.72e-02  1.50e+00  2.02e-02  2.44e-01  1.00e+01\n",
      "   8  1.10e+03  3.76e+02  3.64e+04  7.70e-16  2.90e-02  6.88e-02  1.50e+00  1.67e-02  2.49e-01  1.00e+01\n",
      "   9  1.09e+03  3.67e+02  3.59e+04  1.07e-15  2.54e-02  6.28e-02  1.50e+00  1.35e-02  2.39e-01  1.00e+01\n",
      "  10  1.07e+03  3.59e+02  3.53e+04  9.79e-16  2.18e-02  5.79e-02  1.50e+00  1.13e-02  2.40e-01  1.00e+01\n",
      "  11  1.05e+03  3.51e+02  3.50e+04  1.15e-15  1.98e-02  5.41e-02  1.50e+00  9.35e-03  2.31e-01  1.00e+01\n",
      "  12  1.04e+03  3.44e+02  3.46e+04  7.37e-16  1.76e-02  5.09e-02  1.50e+00  7.94e-03  2.30e-01  1.00e+01\n",
      "  13  1.02e+03  3.38e+02  3.43e+04  6.34e-16  1.64e-02  4.82e-02  1.50e+00  6.83e-03  2.24e-01  1.00e+01\n",
      "  14  1.01e+03  3.32e+02  3.39e+04  1.20e-15  1.50e-02  4.59e-02  1.50e+00  6.00e-03  2.21e-01  1.00e+01\n",
      "  15  1.00e+03  3.27e+02  3.37e+04  9.84e-16  1.42e-02  4.39e-02  1.50e+00  5.37e-03  2.16e-01  1.00e+01\n",
      "  16  9.90e+02  3.22e+02  3.34e+04  9.59e-16  1.33e-02  4.20e-02  1.50e+00  4.89e-03  2.14e-01  1.00e+01\n",
      "  17  9.81e+02  3.17e+02  3.32e+04  1.13e-15  1.28e-02  4.04e-02  1.50e+00  4.54e-03  2.09e-01  1.00e+01\n",
      "  18  9.72e+02  3.13e+02  3.30e+04  7.23e-16  1.21e-02  3.89e-02  1.50e+00  4.26e-03  2.07e-01  1.00e+01\n",
      "  19  9.64e+02  3.09e+02  3.28e+04  8.73e-16  1.17e-02  3.76e-02  1.50e+00  4.05e-03  2.03e-01  1.00e+01\n",
      "  20  9.57e+02  3.06e+02  3.26e+04  1.06e-15  1.12e-02  3.63e-02  1.50e+00  3.88e-03  2.00e-01  1.00e+01\n",
      "  21  9.50e+02  3.02e+02  3.24e+04  7.93e-16  1.09e-02  3.52e-02  1.50e+00  3.75e-03  1.97e-01  1.00e+01\n",
      "  22  9.43e+02  2.99e+02  3.22e+04  1.04e-15  1.05e-02  3.41e-02  1.50e+00  3.64e-03  1.95e-01  1.00e+01\n",
      "  23  9.36e+02  2.96e+02  3.20e+04  7.31e-16  1.02e-02  3.32e-02  1.50e+00  3.55e-03  1.92e-01  1.00e+01\n",
      "  24  9.30e+02  2.93e+02  3.18e+04  7.65e-16  9.88e-03  3.23e-02  1.50e+00  3.46e-03  1.90e-01  1.00e+01\n",
      "  25  9.24e+02  2.91e+02  3.17e+04  9.06e-16  9.63e-03  3.14e-02  1.50e+00  3.39e-03  1.88e-01  1.00e+01\n",
      "  26  9.18e+02  2.88e+02  3.15e+04  8.36e-16  9.37e-03  3.06e-02  1.50e+00  3.32e-03  1.85e-01  1.00e+01\n",
      "  27  9.13e+02  2.86e+02  3.14e+04  1.06e-15  9.15e-03  2.99e-02  1.50e+00  3.25e-03  1.83e-01  1.00e+01\n",
      "  28  9.07e+02  2.83e+02  3.12e+04  8.43e-16  8.93e-03  2.92e-02  1.50e+00  3.19e-03  1.81e-01  1.00e+01\n",
      "  29  9.02e+02  2.81e+02  3.11e+04  6.07e-16  8.73e-03  2.85e-02  1.50e+00  3.14e-03  1.79e-01  1.00e+01\n",
      "  30  8.97e+02  2.79e+02  3.09e+04  7.02e-16  8.54e-03  2.79e-02  1.50e+00  3.08e-03  1.77e-01  1.00e+01\n",
      "  31  8.93e+02  2.77e+02  3.08e+04  9.94e-16  8.37e-03  2.73e-02  1.50e+00  3.04e-03  1.76e-01  1.00e+01\n",
      "  32  8.88e+02  2.75e+02  3.06e+04  1.17e-15  8.19e-03  2.68e-02  1.50e+00  2.99e-03  1.74e-01  1.00e+01\n",
      "  33  8.84e+02  2.74e+02  3.05e+04  9.48e-16  8.04e-03  2.63e-02  1.50e+00  2.94e-03  1.72e-01  1.00e+01\n"
     ]
    }
   ],
   "source": [
    "# 第2層目の畳み込み辞書学習問題を解く。\n",
    "#===============================================================================\n",
    "# D0: 学習前の辞書（辞書の初期値） -> (x, y, 辞書の枚数)\n",
    "# D2: 学習後の辞書 -> (x, y, チャネル, 辞書の枚数)\n",
    "# coef: 得られたスパース係数 -> (x, y, 画像の枚数, チャネル)\n",
    "# lmbda: 辞書学習問題におけるスパース項についているパラメータ、高いほど係数がスパースになる\n",
    "# opt: 畳み込み辞書学習のオプション、リファレンスのまんま\n",
    "#===============================================================================\n",
    "\n",
    "from sporco.dictlrn import cbpdndl;\n",
    "\n",
    "np.random.seed(12345);\n",
    "#channel in second layer is same as output of first layer\n",
    "D0 = np.random.randn(5, 5, 6, 16);\n",
    "\n",
    "lmbda = 0.02;\n",
    "opt = cbpdndl.ConvBPDNDictLearn.Options({'Verbose': True, 'MaxMainIter': 50,\n",
    "                            'CBPDN': {'rho': 50.0*lmbda + 0.5},\n",
    "                            'CCMOD': {'rho': 10.0, 'ZeroMean': True}},\n",
    "                            dmethod='cns');\n",
    "#input is output of first layer\n",
    "d = cbpdndl.ConvBPDNDictLearn(D0, coef.transpose(0,1,3,2), lmbda, opt, dmethod='cns');\n",
    "D2 = d.solve();\n",
    "print(\"ConvBPDNDictLearn solve time: %.2fs\" % d.timer.elapsed('solve'));\n",
    "\n",
    "\n",
    "coef2 = np.array(d.getcoef().squeeze());"
   ]
  },
  {
   "cell_type": "code",
   "execution_count": 12,
   "metadata": {
    "collapsed": true,
    "jupyter": {
     "outputs_hidden": true
    }
   },
   "outputs": [
    {
     "name": "stderr",
     "output_type": "stream",
     "text": [
      "/home/kuroki-lab/anaconda3/lib/python3.6/site-packages/torchvision-0.3.0-py3.6-linux-x86_64.egg/torchvision/datasets/mnist.py:53: UserWarning: train_data has been renamed data\n",
      "  warnings.warn(\"train_data has been renamed data\")\n",
      "/home/kuroki-lab/anaconda3/lib/python3.6/site-packages/torchvision-0.3.0-py3.6-linux-x86_64.egg/torchvision/datasets/mnist.py:43: UserWarning: train_labels has been renamed targets\n",
      "  warnings.warn(\"train_labels has been renamed targets\")\n"
     ]
    },
    {
     "name": "stdout",
     "output_type": "stream",
     "text": [
      "(5000, 32, 32)\n",
      "Itn   Fnc       DFid      Regℓ1     r         s         ρ       \n",
      "----------------------------------------------------------------\n",
      "   0  6.99e+04  4.69e+04  4.61e+05  3.63e-01  3.18e+00  3.50e+00\n",
      "   1  6.23e+04  3.52e+04  5.42e+05  1.81e-01  1.11e+00  3.50e+00\n",
      "   2  6.58e+04  3.41e+04  6.34e+05  2.48e-01  4.23e-01  1.19e+00\n",
      "   3  6.53e+04  3.24e+04  6.58e+05  2.52e-01  2.44e-01  7.64e-01\n",
      "   4  6.38e+04  3.23e+04  6.29e+05  2.20e-01  1.66e-01  6.52e-01\n",
      "   5  6.21e+04  3.22e+04  5.97e+05  1.67e-01  1.30e-01  6.52e-01\n",
      "   6  6.07e+04  3.21e+04  5.73e+05  1.30e-01  1.05e-01  6.52e-01\n",
      "   7  5.93e+04  3.20e+04  5.47e+05  1.04e-01  8.94e-02  6.52e-01\n",
      "   8  5.87e+04  3.20e+04  5.34e+05  9.06e-02  7.59e-02  5.90e-01\n",
      "   9  5.79e+04  3.20e+04  5.19e+05  7.29e-02  6.52e-02  5.90e-01\n",
      "  10  5.76e+04  3.19e+04  5.13e+05  6.57e-02  5.69e-02  5.24e-01\n",
      "  11  5.72e+04  3.19e+04  5.07e+05  5.88e-02  4.91e-02  4.73e-01\n",
      "  12  5.67e+04  3.19e+04  4.97e+05  4.84e-02  4.29e-02  4.73e-01\n",
      "  13  5.65e+04  3.19e+04  4.92e+05  4.43e-02  3.80e-02  4.22e-01\n",
      "  14  5.62e+04  3.19e+04  4.88e+05  4.03e-02  3.34e-02  3.82e-01\n",
      "  15  5.59e+04  3.18e+04  4.82e+05  3.41e-02  2.95e-02  3.82e-01\n",
      "  16  5.58e+04  3.18e+04  4.78e+05  3.15e-02  2.64e-02  3.45e-01\n",
      "  17  5.55e+04  3.18e+04  4.74e+05  2.71e-02  2.36e-02  3.45e-01\n",
      "  18  5.54e+04  3.18e+04  4.72e+05  2.54e-02  2.12e-02  3.11e-01\n",
      "  19  5.52e+04  3.18e+04  4.68e+05  2.23e-02  1.90e-02  3.11e-01\n",
      "  20  5.51e+04  3.18e+04  4.67e+05  2.11e-02  1.72e-02  2.83e-01\n",
      "  21  5.50e+04  3.18e+04  4.64e+05  1.88e-02  1.55e-02  2.83e-01\n",
      "  22  5.49e+04  3.18e+04  4.62e+05  1.68e-02  1.41e-02  2.83e-01\n",
      "  23  5.48e+04  3.18e+04  4.60e+05  1.51e-02  1.29e-02  2.83e-01\n",
      "  24  5.48e+04  3.18e+04  4.59e+05  1.45e-02  1.18e-02  2.57e-01\n",
      "  25  5.47e+04  3.18e+04  4.58e+05  1.33e-02  1.08e-02  2.57e-01\n",
      "  26  5.47e+04  3.18e+04  4.57e+05  1.22e-02  9.85e-03  2.57e-01\n",
      "  27  5.46e+04  3.18e+04  4.56e+05  1.11e-02  9.08e-03  2.57e-01\n",
      "  28  5.45e+04  3.18e+04  4.55e+05  1.02e-02  8.39e-03  2.57e-01\n",
      "  29  5.45e+04  3.18e+04  4.54e+05  9.41e-03  7.77e-03  2.57e-01\n",
      "  30  5.45e+04  3.18e+04  4.53e+05  8.68e-03  7.21e-03  2.57e-01\n",
      "  31  5.44e+04  3.18e+04  4.53e+05  8.02e-03  6.70e-03  2.57e-01\n",
      "  32  5.44e+04  3.18e+04  4.52e+05  7.43e-03  6.24e-03  2.57e-01\n",
      "  33  5.44e+04  3.18e+04  4.52e+05  6.89e-03  5.81e-03  2.57e-01\n",
      "  34  5.43e+04  3.18e+04  4.51e+05  6.40e-03  5.42e-03  2.57e-01\n",
      "  35  5.43e+04  3.18e+04  4.51e+05  6.27e-03  5.05e-03  2.35e-01\n",
      "  36  5.43e+04  3.18e+04  4.50e+05  5.89e-03  4.68e-03  2.35e-01\n",
      "  37  5.43e+04  3.18e+04  4.50e+05  5.52e-03  4.34e-03  2.35e-01\n",
      "  38  5.43e+04  3.18e+04  4.50e+05  5.16e-03  4.04e-03  2.35e-01\n",
      "  39  5.43e+04  3.18e+04  4.49e+05  4.83e-03  3.78e-03  2.35e-01\n",
      "----------------------------------------------------------------\n",
      "ConvBPDN solve time: 109.45s\n"
     ]
    }
   ],
   "source": [
    "train_data, train_label = load_mnist_train(5000)\n",
    "print(train_data.shape)\n",
    "train_data = train_data.transpose(1,2,0)\n",
    "from sporco.admm import cbpdn\n",
    "\n",
    "# 得られた辞書からスパース係数を算出する(１層目)\n",
    "# 辞書は固定し、係数のみの問題を解く\n",
    "#===============================================================================\n",
    "# X1 : スパース係数 -> (x, y, 画像の枚数, チャネル)\n",
    "# lmbda: 辞書学習問題におけるスパース項についているパラメータ、高いほど係数がスパースになる\n",
    "# opt: 畳み込み辞書学習のオプション、リファレンスのまんま\n",
    "#===============================================================================\n",
    "\n",
    "lmbda = 5e-2\n",
    "opt = cbpdn.ConvBPDN.Options({'Verbose': True, 'MaxMainIter': 200,\n",
    "                              'RelStopTol': 5e-3, 'AuxVarObj': False})\n",
    "\n",
    "b1 = cbpdn.ConvBPDN(D1, train_data, lmbda, opt, dimK=0)\n",
    "#get coefficient maps\n",
    "X1 = b1.solve()\n",
    "X1 = X1.squeeze()\n",
    "print(\"ConvBPDN solve time: %.2fs\" % b1.timer.elapsed('solve'))"
   ]
  },
  {
   "cell_type": "code",
   "execution_count": 13,
   "metadata": {
    "collapsed": true,
    "jupyter": {
     "outputs_hidden": true
    }
   },
   "outputs": [
    {
     "name": "stdout",
     "output_type": "stream",
     "text": [
      "Itn   Fnc       DFid      Regℓ1     r         s         ρ       \n",
      "----------------------------------------------------------------\n",
      "   0  6.97e+04  3.30e+04  3.68e+05  5.86e-01  6.91e-01  6.00e+00\n",
      "   1  6.74e+04  4.20e+04  2.54e+05  2.77e-01  4.99e-01  6.00e+00\n",
      "   2  6.16e+04  3.29e+04  2.87e+05  2.28e-01  2.32e-01  3.16e+00\n",
      "   3  6.53e+04  3.38e+04  3.15e+05  1.99e-01  1.67e-01  2.21e+00\n",
      "   4  6.09e+04  3.05e+04  3.05e+05  1.62e-01  8.69e-02  1.71e+00\n",
      "   5  5.87e+04  3.09e+04  2.78e+05  1.18e-01  5.38e-02  1.71e+00\n",
      "   6  5.63e+04  3.05e+04  2.58e+05  8.95e-02  3.40e-02  1.71e+00\n",
      "   7  5.42e+04  3.06e+04  2.37e+05  6.07e-02  2.31e-02  1.96e+00\n",
      "   8  5.27e+04  3.05e+04  2.22e+05  4.16e-02  1.64e-02  2.25e+00\n",
      "   9  5.18e+04  3.05e+04  2.13e+05  2.92e-02  1.24e-02  2.52e+00\n",
      "  10  5.13e+04  3.05e+04  2.08e+05  2.32e-02  9.68e-03  2.52e+00\n",
      "  11  5.09e+04  3.05e+04  2.04e+05  1.85e-02  7.81e-03  2.52e+00\n",
      "  12  5.06e+04  3.05e+04  2.02e+05  1.48e-02  6.43e-03  2.52e+00\n",
      "  13  5.04e+04  3.05e+04  1.99e+05  1.18e-02  5.39e-03  2.52e+00\n",
      "  14  5.02e+04  3.05e+04  1.97e+05  9.48e-03  4.56e-03  2.52e+00\n",
      "  15  5.01e+04  3.05e+04  1.96e+05  7.60e-03  3.89e-03  2.52e+00\n"
     ]
    },
    {
     "ename": "KeyboardInterrupt",
     "evalue": "",
     "output_type": "error",
     "traceback": [
      "\u001b[0;31m---------------------------------------------------------------------------\u001b[0m",
      "\u001b[0;31mKeyboardInterrupt\u001b[0m                         Traceback (most recent call last)",
      "\u001b[0;32m<ipython-input-13-b49bad4aa25b>\u001b[0m in \u001b[0;36m<module>\u001b[0;34m()\u001b[0m\n\u001b[1;32m      5\u001b[0m \u001b[0;34m\u001b[0m\u001b[0m\n\u001b[1;32m      6\u001b[0m \u001b[0mb2\u001b[0m \u001b[0;34m=\u001b[0m \u001b[0mcbpdn\u001b[0m\u001b[0;34m.\u001b[0m\u001b[0mConvBPDN\u001b[0m\u001b[0;34m(\u001b[0m\u001b[0mD2\u001b[0m\u001b[0;34m.\u001b[0m\u001b[0msqueeze\u001b[0m\u001b[0;34m(\u001b[0m\u001b[0;34m)\u001b[0m\u001b[0;34m,\u001b[0m \u001b[0mX1\u001b[0m\u001b[0;34m.\u001b[0m\u001b[0mtranspose\u001b[0m\u001b[0;34m(\u001b[0m\u001b[0;36m0\u001b[0m\u001b[0;34m,\u001b[0m\u001b[0;36m1\u001b[0m\u001b[0;34m,\u001b[0m\u001b[0;36m3\u001b[0m\u001b[0;34m,\u001b[0m\u001b[0;36m2\u001b[0m\u001b[0;34m)\u001b[0m\u001b[0;34m,\u001b[0m \u001b[0mlmbda\u001b[0m\u001b[0;34m,\u001b[0m \u001b[0mopt\u001b[0m\u001b[0;34m)\u001b[0m\u001b[0;34m\u001b[0m\u001b[0m\n\u001b[0;32m----> 7\u001b[0;31m \u001b[0mX2\u001b[0m \u001b[0;34m=\u001b[0m \u001b[0mb2\u001b[0m\u001b[0;34m.\u001b[0m\u001b[0msolve\u001b[0m\u001b[0;34m(\u001b[0m\u001b[0;34m)\u001b[0m\u001b[0;34m\u001b[0m\u001b[0m\n\u001b[0m\u001b[1;32m      8\u001b[0m \u001b[0mX2\u001b[0m \u001b[0;34m=\u001b[0m \u001b[0mX2\u001b[0m\u001b[0;34m.\u001b[0m\u001b[0msqueeze\u001b[0m\u001b[0;34m(\u001b[0m\u001b[0;34m)\u001b[0m\u001b[0;34m\u001b[0m\u001b[0m\n\u001b[1;32m      9\u001b[0m \u001b[0mprint\u001b[0m\u001b[0;34m(\u001b[0m\u001b[0;34m\"ConvBPDN solve time: %.2fs\"\u001b[0m \u001b[0;34m%\u001b[0m \u001b[0mb2\u001b[0m\u001b[0;34m.\u001b[0m\u001b[0mtimer\u001b[0m\u001b[0;34m.\u001b[0m\u001b[0melapsed\u001b[0m\u001b[0;34m(\u001b[0m\u001b[0;34m'solve'\u001b[0m\u001b[0;34m)\u001b[0m\u001b[0;34m)\u001b[0m\u001b[0;34m\u001b[0m\u001b[0m\n",
      "\u001b[0;32m~/anaconda3/lib/python3.6/site-packages/sporco/admm/admm.py\u001b[0m in \u001b[0;36msolve\u001b[0;34m(self)\u001b[0m\n\u001b[1;32m    334\u001b[0m \u001b[0;34m\u001b[0m\u001b[0m\n\u001b[1;32m    335\u001b[0m             \u001b[0;31m# X update\u001b[0m\u001b[0;34m\u001b[0m\u001b[0;34m\u001b[0m\u001b[0m\n\u001b[0;32m--> 336\u001b[0;31m             \u001b[0mself\u001b[0m\u001b[0;34m.\u001b[0m\u001b[0mxstep\u001b[0m\u001b[0;34m(\u001b[0m\u001b[0;34m)\u001b[0m\u001b[0;34m\u001b[0m\u001b[0m\n\u001b[0m\u001b[1;32m    337\u001b[0m \u001b[0;34m\u001b[0m\u001b[0m\n\u001b[1;32m    338\u001b[0m             \u001b[0;31m# Implement relaxation if RelaxParam != 1.0\u001b[0m\u001b[0;34m\u001b[0m\u001b[0;34m\u001b[0m\u001b[0m\n",
      "\u001b[0;32m~/anaconda3/lib/python3.6/site-packages/sporco/admm/cbpdn.py\u001b[0m in \u001b[0;36mxstep\u001b[0;34m(self)\u001b[0m\n\u001b[1;32m    267\u001b[0m         \u001b[0;32melse\u001b[0m\u001b[0;34m:\u001b[0m\u001b[0;34m\u001b[0m\u001b[0m\n\u001b[1;32m    268\u001b[0m             self.Xf[:] = sl.solvemdbi_ism(self.Df, self.rho, b, self.cri.axisM,\n\u001b[0;32m--> 269\u001b[0;31m                                           self.cri.axisC)\n\u001b[0m\u001b[1;32m    270\u001b[0m \u001b[0;34m\u001b[0m\u001b[0m\n\u001b[1;32m    271\u001b[0m         \u001b[0mself\u001b[0m\u001b[0;34m.\u001b[0m\u001b[0mX\u001b[0m \u001b[0;34m=\u001b[0m \u001b[0msl\u001b[0m\u001b[0;34m.\u001b[0m\u001b[0mirfftn\u001b[0m\u001b[0;34m(\u001b[0m\u001b[0mself\u001b[0m\u001b[0;34m.\u001b[0m\u001b[0mXf\u001b[0m\u001b[0;34m,\u001b[0m \u001b[0mself\u001b[0m\u001b[0;34m.\u001b[0m\u001b[0mcri\u001b[0m\u001b[0;34m.\u001b[0m\u001b[0mNv\u001b[0m\u001b[0;34m,\u001b[0m \u001b[0mself\u001b[0m\u001b[0;34m.\u001b[0m\u001b[0mcri\u001b[0m\u001b[0;34m.\u001b[0m\u001b[0maxisN\u001b[0m\u001b[0;34m)\u001b[0m\u001b[0;34m\u001b[0m\u001b[0m\n",
      "\u001b[0;32m~/anaconda3/lib/python3.6/site-packages/sporco/linalg.py\u001b[0m in \u001b[0;36msolvemdbi_ism\u001b[0;34m(***failed resolving arguments***)\u001b[0m\n\u001b[1;32m    671\u001b[0m         \u001b[0mdelta\u001b[0m\u001b[0;34m[\u001b[0m\u001b[0mslck\u001b[0m\u001b[0;34m]\u001b[0m \u001b[0;34m=\u001b[0m \u001b[0;36m1.0\u001b[0m \u001b[0;34m+\u001b[0m \u001b[0minner\u001b[0m\u001b[0;34m(\u001b[0m\u001b[0mah\u001b[0m\u001b[0;34m[\u001b[0m\u001b[0mslck\u001b[0m\u001b[0;34m]\u001b[0m\u001b[0;34m,\u001b[0m \u001b[0mgamma\u001b[0m\u001b[0;34m[\u001b[0m\u001b[0mslck\u001b[0m\u001b[0;34m]\u001b[0m\u001b[0;34m,\u001b[0m \u001b[0maxis\u001b[0m\u001b[0;34m=\u001b[0m\u001b[0maxisM\u001b[0m\u001b[0;34m)\u001b[0m\u001b[0;34m\u001b[0m\u001b[0m\n\u001b[1;32m    672\u001b[0m \u001b[0;34m\u001b[0m\u001b[0m\n\u001b[0;32m--> 673\u001b[0;31m         \u001b[0md\u001b[0m \u001b[0;34m=\u001b[0m \u001b[0mgamma\u001b[0m\u001b[0;34m[\u001b[0m\u001b[0mslck\u001b[0m\u001b[0;34m]\u001b[0m \u001b[0;34m*\u001b[0m \u001b[0minner\u001b[0m\u001b[0;34m(\u001b[0m\u001b[0mah\u001b[0m\u001b[0;34m[\u001b[0m\u001b[0mslck\u001b[0m\u001b[0;34m]\u001b[0m\u001b[0;34m,\u001b[0m \u001b[0mbeta\u001b[0m\u001b[0;34m,\u001b[0m \u001b[0maxis\u001b[0m\u001b[0;34m=\u001b[0m\u001b[0maxisM\u001b[0m\u001b[0;34m)\u001b[0m\u001b[0;34m\u001b[0m\u001b[0m\n\u001b[0m\u001b[1;32m    674\u001b[0m         \u001b[0mbeta\u001b[0m\u001b[0;34m[\u001b[0m\u001b[0;34m:\u001b[0m\u001b[0;34m]\u001b[0m \u001b[0;34m-=\u001b[0m \u001b[0md\u001b[0m \u001b[0;34m/\u001b[0m \u001b[0mdelta\u001b[0m\u001b[0;34m[\u001b[0m\u001b[0mslck\u001b[0m\u001b[0;34m]\u001b[0m\u001b[0;34m\u001b[0m\u001b[0m\n\u001b[1;32m    675\u001b[0m \u001b[0;34m\u001b[0m\u001b[0m\n",
      "\u001b[0;31mKeyboardInterrupt\u001b[0m: "
     ]
    }
   ],
   "source": [
    "# 得られた辞書からスパース係数を算出する(2層目)\n",
    "# 辞書は固定し、係数のみの問題を解く\n",
    "#===============================================================================\n",
    "# X2 : スパース係数 -> (x, y, 画像の枚数, チャネル)\n",
    "# lmbda: 辞書学習問題におけるスパース項についているパラメータ、高いほど係数がスパースになる\n",
    "# opt: 畳み込み辞書学習のオプション、リファレンスのまんま\n",
    "#===============================================================================\n",
    "lmbda = 1e-1\n",
    "opt = cbpdn.ConvBPDN.Options({'Verbose': True, 'MaxMainIter': 200,\n",
    "                              'RelStopTol': 5e-3, 'AuxVarObj': False})\n",
    "\n",
    "b2 = cbpdn.ConvBPDN(D2.squeeze(), X1.transpose(0,1,3,2), lmbda, opt)\n",
    "X2 = b2.solve()\n",
    "X2 = X2.squeeze()\n",
    "print(\"ConvBPDN solve time: %.2fs\" % b2.timer.elapsed('solve'))\n",
    "del X1"
   ]
  },
  {
   "cell_type": "code",
   "execution_count": null,
   "metadata": {},
   "outputs": [],
   "source": [
    "# 使う特徴を(データの個数, 特徴量の次元)に整形する\n",
    "X2 = X2.transpose(0,1,3,2)\n",
    "X2 = X2.reshape(-1,X2.shape[3])\n",
    "\n",
    "# SVM を学習させる\n",
    "from sklearn.svm import SVC\n",
    "clf = SVC(gamma='auto',kernel='linear')\n",
    "clf.fit(X2.T, train_label)"
   ]
  },
  {
   "cell_type": "code",
   "execution_count": null,
   "metadata": {},
   "outputs": [],
   "source": [
    "print(clf.score(X2.T, train_label))\n",
    "del X2\n",
    "del train_label"
   ]
  },
  {
   "cell_type": "markdown",
   "metadata": {},
   "source": [
    "test trained dictionary with test data"
   ]
  },
  {
   "cell_type": "code",
   "execution_count": null,
   "metadata": {},
   "outputs": [],
   "source": [
    "from sporco.admm import cbpdn\n",
    "\n",
    "\n",
    "# 得られた辞書からテスト用画像のスパース係数を算出する(１層目)\n",
    "# 辞書は固定し、係数のみの問題を解く\n",
    "#===============================================================================\n",
    "# X1 : スパース係数 -> (x, y, 画像の枚数, チャネル)\n",
    "# lmbda: 辞書学習問題におけるスパース項についているパラメータ、高いほど係数がスパースになる\n",
    "# opt: 畳み込み辞書学習のオプション、リファレンスのまんま\n",
    "#===============================================================================\n",
    "\n",
    "lmbda = 5e-2\n",
    "opt = cbpdn.ConvBPDN.Options({'Verbose': True, 'MaxMainIter': 200,\n",
    "                              'RelStopTol': 5e-3, 'AuxVarObj': False})\n",
    "\n",
    "b1 = cbpdn.ConvBPDN(D1, test_data, lmbda, opt, dimK=0)\n",
    "X1 = b1.solve()\n",
    "X1 = X1.squeeze()\n",
    "print(\"ConvBPDN solve time: %.2fs\" % b1.timer.elapsed('solve'))\n",
    "del b1"
   ]
  },
  {
   "cell_type": "code",
   "execution_count": null,
   "metadata": {},
   "outputs": [],
   "source": [
    "# 得られた辞書からテスト用画像のスパース係数を算出する(2層目)\n",
    "# 辞書は固定し、係数のみの問題を解く\n",
    "#===============================================================================\n",
    "# X2 : スパース係数 -> (x, y, 画像の枚数, チャネル)\n",
    "# lmbda: 辞書学習問題におけるスパース項についているパラメータ、高いほど係数がスパースになる\n",
    "# opt: 畳み込み辞書学習のオプション、リファレンスのまんま\n",
    "#===============================================================================\n",
    "\n",
    "lmbda = 1e-1\n",
    "opt = cbpdn.ConvBPDN.Options({'Verbose': True, 'MaxMainIter': 200,\n",
    "                              'RelStopTol': 5e-3, 'AuxVarObj': False})\n",
    "\n",
    "b2 = cbpdn.ConvBPDN(D2.squeeze(), X1.transpose(0,1,3,2), lmbda, opt)\n",
    "X2 = b2.solve()\n",
    "X2 = X2.squeeze()\n",
    "print(\"ConvBPDN solve time: %.2fs\" % b2.timer.elapsed('solve'))"
   ]
  },
  {
   "cell_type": "code",
   "execution_count": null,
   "metadata": {},
   "outputs": [],
   "source": [
    "X2 = X2.transpose(0,1,3,2)\n",
    "X2 = X2.reshape((-1,X2.shape[3]))\n",
    "clf.score(X2.T, test_label)"
   ]
  },
  {
   "cell_type": "code",
   "execution_count": null,
   "metadata": {},
   "outputs": [],
   "source": []
  }
 ],
 "metadata": {
  "kernelspec": {
   "display_name": "Python 3",
   "language": "python",
   "name": "python3"
  },
  "language_info": {
   "codemirror_mode": {
    "name": "ipython",
    "version": 3
   },
   "file_extension": ".py",
   "mimetype": "text/x-python",
   "name": "python",
   "nbconvert_exporter": "python",
   "pygments_lexer": "ipython3",
   "version": "3.7.5"
  },
  "varInspector": {
   "cols": {
    "lenName": 16,
    "lenType": 16,
    "lenVar": 40
   },
   "kernels_config": {
    "python": {
     "delete_cmd_postfix": "",
     "delete_cmd_prefix": "del ",
     "library": "var_list.py",
     "varRefreshCmd": "print(var_dic_list())"
    },
    "r": {
     "delete_cmd_postfix": ") ",
     "delete_cmd_prefix": "rm(",
     "library": "var_list.r",
     "varRefreshCmd": "cat(var_dic_list()) "
    }
   },
   "types_to_exclude": [
    "module",
    "function",
    "builtin_function_or_method",
    "instance",
    "_Feature"
   ],
   "window_display": false
  }
 },
 "nbformat": 4,
 "nbformat_minor": 4
}
